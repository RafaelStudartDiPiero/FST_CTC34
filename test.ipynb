{
 "cells": [
  {
   "cell_type": "code",
   "execution_count": null,
   "metadata": {},
   "outputs": [],
   "source": [
    "from trie.trie import create_trie\n",
    "import networkx as nx\n",
    "import time\n",
    "import resource\n",
    "\n",
    "dictionary = ['apr', 'aug', 'dec', 'feb', 'jan', 'jul', 'jun', 'mar', 'may', 'nov', 'oct', 'sep']\n",
    "time_start = time.perf_counter()\n",
    "trie = create_trie(dictionary)\n",
    "time_elapsed = (time.perf_counter() - time_start)\n",
    "memMb=resource.getrusage(resource.RUSAGE_SELF).ru_maxrss/1024.0/1024.0\n",
    "print (\"%5.5f secs %5.5f MByte\" % (time_elapsed,memMb))\n",
    "print(trie.number_of_nodes())\n",
    "nx.write_gpickle(trie, \"generated_trie_test_little\")"
   ]
  },
  {
   "cell_type": "code",
   "execution_count": null,
   "metadata": {},
   "outputs": [],
   "source": [
    "from fst.fst import create_minimal_transducer\n",
    "import networkx as nx\n",
    "import time\n",
    "import resource\n",
    "\n",
    "dictionary = ['apr', 'aug', 'dec', 'feb', 'jan', 'jul', 'jun', 'mar', 'may', 'nov', 'oct', 'sep']\n",
    "time_start = time.perf_counter()\n",
    "fst = create_minimal_transducer(dictionary)\n",
    "time_elapsed = (time.perf_counter() - time_start)\n",
    "memMb=resource.getrusage(resource.RUSAGE_SELF).ru_maxrss/1024.0/1024.0\n",
    "print (\"%5.5f secs %5.5f MByte\" % (time_elapsed,memMb))\n",
    "print(fst.number_of_nodes())\n",
    "nx.write_gpickle(fst, \"generated_fst_test_little\")"
   ]
  },
  {
   "cell_type": "code",
   "execution_count": null,
   "metadata": {},
   "outputs": [],
   "source": [
    "from trie.trie import create_trie\n",
    "from dictionary import create_dictionary\n",
    "import networkx as nx\n",
    "import time\n",
    "import resource\n",
    "\n",
    "dictionary = create_dictionary()\n",
    "time_start = time.perf_counter()\n",
    "trie = create_trie(dictionary)\n",
    "time_elapsed = (time.perf_counter() - time_start)\n",
    "memMb=resource.getrusage(resource.RUSAGE_SELF).ru_maxrss/1024.0/1024.0\n",
    "print (\"%5.5f secs %5.5f MByte\" % (time_elapsed,memMb))\n",
    "print(trie.number_of_nodes())\n",
    "nx.write_gpickle(trie, \"generated_trie_test\")"
   ]
  },
  {
   "cell_type": "code",
   "execution_count": null,
   "metadata": {},
   "outputs": [],
   "source": [
    "from fst.fst import create_minimal_transducer\n",
    "from dictionary import create_dictionary\n",
    "import networkx as nx\n",
    "import time\n",
    "import resource\n",
    "\n",
    "dictionary = create_dictionary()\n",
    "time_start = time.perf_counter()\n",
    "fst = create_minimal_transducer(dictionary)\n",
    "time_elapsed = (time.perf_counter() - time_start)\n",
    "memMb=resource.getrusage(resource.RUSAGE_SELF).ru_maxrss/1024.0/1024.0\n",
    "print (\"%5.5f secs %5.5f MByte\" % (time_elapsed,memMb))\n",
    "print(fst.number_of_nodes())\n",
    "nx.write_gpickle(fst, \"generated_fst_test\")"
   ]
  },
  {
   "cell_type": "code",
   "execution_count": 32,
   "metadata": {},
   "outputs": [
    {
     "name": "stdout",
     "output_type": "stream",
     "text": [
      "Palavra:s, tomou 0.00027529580378904937\n",
      "Palavra:ma, tomou 0.00018637557467445732\n",
      "Palavra:art, tomou 0.00037517915409989653\n",
      "Palavra:transd, tomou 0.00012581650051288307\n",
      "Palavra:él, tomou 6.044058967381716e-05\n",
      "Media:0.00020462152455002065\n"
     ]
    }
   ],
   "source": [
    "import time\n",
    "from trie.trie import auto_complete_trie, read_trie\n",
    "\n",
    "trie = read_trie()\n",
    "auto_complete_list = [\"s\", \"ma\", \"art\", \"transd\", \"él\"]\n",
    "full_time = 0\n",
    "for word in auto_complete_list:\n",
    "    word_time = 0\n",
    "    for i in range(0,1000):\n",
    "        time_start = time.perf_counter()\n",
    "        auto_complete_trie(word,trie)\n",
    "        time_elapsed = (time.perf_counter() - time_start)\n",
    "        word_time += time_elapsed\n",
    "    word_time = word_time/1000\n",
    "    print(\"Palavra:{}, tomou {}\".format(word,word_time))\n",
    "    full_time += word_time\n",
    "full_time = full_time/len(auto_complete_list)\n",
    "print(\"Media:{}\".format(full_time))"
   ]
  },
  {
   "cell_type": "code",
   "execution_count": 45,
   "metadata": {},
   "outputs": [
    {
     "name": "stdout",
     "output_type": "stream",
     "text": [
      "Palavra:s, tomou 0.00081456105154939\n",
      "Palavra:ma, tomou 0.0005783037301152945\n",
      "Palavra:art, tomou 0.0004899758596438915\n",
      "Palavra:transd, tomou 0.00034183418541215363\n",
      "Palavra:él, tomou 0.0001760538078378886\n",
      "Media:0.0004801457269117236\n"
     ]
    }
   ],
   "source": [
    "import time\n",
    "from fst.fst import auto_complete_fst, read_fst\n",
    "\n",
    "fst = read_fst()\n",
    "auto_complete_list = [\"s\", \"ma\", \"art\", \"transd\", \"él\"]\n",
    "full_time = 0\n",
    "for word in auto_complete_list:\n",
    "    word_time = 0\n",
    "    for i in range(0,1000):\n",
    "        time_start = time.perf_counter()\n",
    "        auto_complete_fst(word,fst)\n",
    "        time_elapsed = (time.perf_counter() - time_start)\n",
    "        word_time += time_elapsed\n",
    "    word_time = word_time/1000\n",
    "    print(\"Palavra:{}, tomou {}\".format(word,word_time))\n",
    "    full_time += word_time\n",
    "full_time = full_time/len(auto_complete_list)\n",
    "print(\"Media:{}\".format(full_time))"
   ]
  }
 ],
 "metadata": {
  "kernelspec": {
   "display_name": "Python 3.10.8 ('.venv': venv)",
   "language": "python",
   "name": "python3"
  },
  "language_info": {
   "codemirror_mode": {
    "name": "ipython",
    "version": 3
   },
   "file_extension": ".py",
   "mimetype": "text/x-python",
   "name": "python",
   "nbconvert_exporter": "python",
   "pygments_lexer": "ipython3",
   "version": "3.10.8"
  },
  "orig_nbformat": 4,
  "vscode": {
   "interpreter": {
    "hash": "af5fd722816d4fe3a413d3983dc84ae2d6cc7a384c738caddb48cb2d09953a87"
   }
  }
 },
 "nbformat": 4,
 "nbformat_minor": 2
}
