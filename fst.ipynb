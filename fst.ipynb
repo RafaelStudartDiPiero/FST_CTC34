{
 "cells": [
  {
   "cell_type": "code",
   "execution_count": 20,
   "metadata": {},
   "outputs": [],
   "source": [
    "from dfa import dict2dfa\n",
    "from dfa.draw import write_dot\n",
    "\n",
    "dfa_dict = {\n",
    "    0: (False, {0: 0, 1: 1}),\n",
    "    1: (False, {0: 1, 1: 2}),\n",
    "    2: (False, {0: 2, 1: 3}),\n",
    "    3: (True, {0: 3, 1: 0})\n",
    "}\n",
    "\n",
    "dfa = dict2dfa(dfa_dict, 0)\n",
    "\n",
    "write_dot(dfa, \"dfa.dot\")\n"
   ]
  },
  {
   "cell_type": "code",
   "execution_count": 31,
   "metadata": {},
   "outputs": [],
   "source": [
    "from dfa import dict2dfa\n",
    "\n",
    "\n",
    "def create_minimal_transducer(input):\n",
    "    minimal_transducer_states = {\n",
    "        0: (2, {0: 0, 1: 1}), 1: (3, {0: 1, 1: 0})}\n",
    "    dfa = dict2dfa(minimal_transducer_states, 0)\n",
    "    return dfa\n"
   ]
  },
  {
   "cell_type": "code",
   "execution_count": 32,
   "metadata": {},
   "outputs": [],
   "source": [
    "# Visualiza DFA\n",
    "\n",
    "dfa = create_minimal_transducer(input)\n",
    "write_dot(dfa, \"dfa.dot\")"
   ]
  }
 ],
 "metadata": {
  "kernelspec": {
   "display_name": "Python 3.10.8 ('.venv': venv)",
   "language": "python",
   "name": "python3"
  },
  "language_info": {
   "codemirror_mode": {
    "name": "ipython",
    "version": 3
   },
   "file_extension": ".py",
   "mimetype": "text/x-python",
   "name": "python",
   "nbconvert_exporter": "python",
   "pygments_lexer": "ipython3",
   "version": "3.10.8"
  },
  "orig_nbformat": 4,
  "vscode": {
   "interpreter": {
    "hash": "af5fd722816d4fe3a413d3983dc84ae2d6cc7a384c738caddb48cb2d09953a87"
   }
  }
 },
 "nbformat": 4,
 "nbformat_minor": 2
}
