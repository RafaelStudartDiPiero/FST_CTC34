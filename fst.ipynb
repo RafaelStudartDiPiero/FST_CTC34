{
 "cells": [
  {
   "cell_type": "code",
   "execution_count": 1,
   "metadata": {},
   "outputs": [],
   "source": [
    "# Dependencies\n",
    "import networkx as nx\n",
    "import matplotlib.pyplot as plt\n"
   ]
  },
  {
   "cell_type": "code",
   "execution_count": 2,
   "metadata": {},
   "outputs": [],
   "source": [
    "# Classes\n",
    "class State():\n",
    "    def __init__(self, name):\n",
    "        self.name = name\n",
    "        self.final = False\n",
    "        self.edges = []\n",
    "\n",
    "    def add_edge(self, destiny, transition, output):\n",
    "        edge = Edge(self.name, destiny, transition, output)\n",
    "        self.edges.append(edge)\n",
    "\n",
    "    def add_state_to_fst(self, fst):\n",
    "        fst.add_node(self.name, final=self.final)\n",
    "\n",
    "    def add_edges_to_fst(self, fst):\n",
    "        for edge in self.edges:\n",
    "            fst.add_edge(edge.origin, edge.destiny,\n",
    "                         transition=edge.transition, output=edge.output)\n",
    "\n",
    "    def set_final(self, is_final):\n",
    "        self.final = is_final\n",
    "\n",
    "    def is_equal(self, state):\n",
    "        if self.final != state.final:\n",
    "            return False\n",
    "        if len(self.edges) != len(state.edges):\n",
    "            return False\n",
    "        for edge in self.edges:\n",
    "            found_equivalent = False\n",
    "            for state_edge in state.edges:\n",
    "                if (edge.destiny == state_edge.destiny and edge.transition == state_edge.transition and edge.output == state_edge.output):\n",
    "                    found_equivalent = True\n",
    "                    break\n",
    "            if found_equivalent:\n",
    "                continue\n",
    "            return False\n",
    "        return True\n",
    "\n",
    "    def transition(self, letter):\n",
    "        for edge in self.edges:\n",
    "            if (edge.transition == letter):\n",
    "                return edge.destiny\n",
    "        return None\n",
    "\n",
    "    def output(self, letter):\n",
    "        for edge in self.edges:\n",
    "            if (edge.transition == letter):\n",
    "                return edge.output\n",
    "        return None\n",
    "\n",
    "    def clear(self):\n",
    "        self.final = False\n",
    "        self.edges = []\n",
    "\n",
    "    def copy(self):\n",
    "        new_state = State(self.name)\n",
    "        new_state.set_final(self.final)\n",
    "        for edge in self.edges:\n",
    "            new_state.add_edge(edge.destiny, edge.transition, edge.output)\n",
    "        return new_state\n",
    "\n",
    "\n",
    "class Edge():\n",
    "    def __init__(self, origin, destiny, transition, output):\n",
    "        self.origin = origin\n",
    "        self.destiny = destiny\n",
    "        self.transition = transition\n",
    "        self.output = output\n"
   ]
  },
  {
   "cell_type": "code",
   "execution_count": 3,
   "metadata": {},
   "outputs": [],
   "source": [
    "# Utils\n",
    "def findMinimizedState(state, minimal_states):\n",
    "    for frozen_state in minimal_states:\n",
    "        if frozen_state.is_equal(state):\n",
    "            return frozen_state\n",
    "    minimal_states.append(state)\n",
    "    return state\n",
    "\n",
    "def findStateByLetter(letter, minimal_states):\n",
    "    for frozen_state in minimal_states:\n",
    "        if frozen_state.name == letter:\n",
    "            return frozen_state\n",
    "    return None"
   ]
  },
  {
   "cell_type": "code",
   "execution_count": 4,
   "metadata": {},
   "outputs": [],
   "source": [
    "# Create Minimal Transducer\n",
    "def create_minimal_transducer(dictionary):\n",
    "    # Initial\n",
    "    \n",
    "    fst = nx.DiGraph()\n",
    "    minimal_states = []\n",
    "    \n",
    "\n",
    "\n",
    "    # Algorithm\n",
    "\n",
    "    state0 = State(0)\n",
    "    state0.add_edge(1,'a',1)\n",
    "    state0.add_edge(2,'b',3)\n",
    "    state1 = State(1)\n",
    "    state1.add_edge(2,'b',4)\n",
    "    state2 = State(2)\n",
    "    state2.set_final(True)\n",
    "\n",
    "    minimal_states.append(state0)\n",
    "    minimal_states.append(state1)\n",
    "    minimal_states.append(state2)\n",
    "\n",
    "    # for word, index in dictionary.items():\n",
    "    #     pass\n",
    "\n",
    "    # Creating FST based on list\n",
    "\n",
    "    for state in minimal_states:\n",
    "        state.add_state_to_fst(fst)\n",
    "    for state in minimal_states:\n",
    "        state.add_edges_to_fst(fst)\n",
    "    return fst"
   ]
  },
  {
   "cell_type": "code",
   "execution_count": 5,
   "metadata": {},
   "outputs": [],
   "source": [
    "# Create Dictionary\n",
    "def create_dictionary():\n",
    "    dictionary = {\"jan\": 1, \"feb\": 2, \"mar\": 3, \"apr\": 4, \"may\": 5, \"jun\": 6,\n",
    "                  \"jul\": 7, \"aug\": 8, \"sep\": 9, \"oct\": 10, \"nov\": 11, \"dec\": 12}\n",
    "    dictionary = dict(sorted(dictionary.items()))\n",
    "    return dictionary\n"
   ]
  },
  {
   "cell_type": "code",
   "execution_count": 6,
   "metadata": {},
   "outputs": [],
   "source": [
    "# Read Input\n",
    "\n",
    "def read_input(input, fst):\n",
    "    state = 0\n",
    "    output = 0\n",
    "    for letter in input:\n",
    "        current_state_edges = dict(fst[state])\n",
    "        prev_state = state\n",
    "        for next_state, edge_properties in current_state_edges.items():\n",
    "            if edge_properties['transition'] == letter:\n",
    "                state = next_state\n",
    "                output += edge_properties['output']\n",
    "                break\n",
    "        if (state == prev_state):\n",
    "            break\n",
    "    return output\n"
   ]
  },
  {
   "cell_type": "code",
   "execution_count": 7,
   "metadata": {},
   "outputs": [
    {
     "name": "stdout",
     "output_type": "stream",
     "text": [
      "1\n"
     ]
    },
    {
     "data": {
      "image/png": "[encoded data removed]",
      "text/plain": [
       "<Figure size 640x480 with 1 Axes>"
      ]
     },
     "metadata": {},
     "output_type": "display_data"
    }
   ],
   "source": [
    "# Main\n",
    "\n",
    "dictionary = create_dictionary()\n",
    "fst = create_minimal_transducer(dictionary)\n",
    "pos = nx.spring_layout(fst)\n",
    "plt.figure()\n",
    "nx.draw(fst, pos, with_labels=True)\n",
    "nx.draw_networkx_edge_labels(fst, pos)\n",
    "\n",
    "print(read_input(\"aaa\", fst)) \n"
   ]
  }
 ],
 "metadata": {
  "kernelspec": {
   "display_name": "Python 3.10.8 ('.venv': venv)",
   "language": "python",
   "name": "python3"
  },
  "language_info": {
   "codemirror_mode": {
    "name": "ipython",
    "version": 3
   },
   "file_extension": ".py",
   "mimetype": "text/x-python",
   "name": "python",
   "nbconvert_exporter": "python",
   "pygments_lexer": "ipython3",
   "version": "3.10.8"
  },
  "orig_nbformat": 4,
  "vscode": {
   "interpreter": {
    "hash": "af5fd722816d4fe3a413d3983dc84ae2d6cc7a384c738caddb48cb2d09953a87"
   }
  }
 },
 "nbformat": 4,
 "nbformat_minor": 2
}
