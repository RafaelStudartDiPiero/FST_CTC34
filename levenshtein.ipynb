{
 "cells": [
  {
   "cell_type": "code",
   "execution_count": 10,
   "metadata": {},
   "outputs": [],
   "source": [
    "class SparseLevenshteinAutomaton:\n",
    "    def __init__(self, string):\n",
    "        self.string = string\n",
    "        self.max_edits = 1\n",
    "\n",
    "    def start(self):\n",
    "        return range(self.max_edits+1), range(self.max_edits+1)\n",
    "\n",
    "    def step(self, state, c):\n",
    "        indices, values = state\n",
    "        if indices and indices[0] == 0 and values[0] < self.max_edits:\n",
    "            new_indices = [0]\n",
    "            new_values = [values[0] + 1]\n",
    "        else:\n",
    "            new_indices = []\n",
    "            new_values = []\n",
    "\n",
    "        for j,i in enumerate(indices):\n",
    "            if i == len(self.string): break\n",
    "            cost = 0 if self.string[i] == c else 1\n",
    "            val = values[j] + cost\n",
    "            if new_indices and new_indices[-1] == i:\n",
    "                val = min(val, new_values[-1] + 1)\n",
    "            if j+1 < len(indices) and indices[j+1] == i+1:\n",
    "                val = min(val, values[j+1] + 1)\n",
    "            if val <= self.max_edits:\n",
    "                new_indices.append(i+1)\n",
    "                new_values.append(val)\n",
    "\n",
    "        return (new_indices, new_values)\n",
    "\n",
    "    def is_match(self, state):\n",
    "        indices = state[0]\n",
    "        return bool(indices) and indices[-1] == len(self.string)\n",
    "\n",
    "    def can_match(self, state):\n",
    "        indices = state[0]\n",
    "        return bool(indices)\n",
    "\n",
    "    def transitions(self, state):\n",
    "        indices = state[0]\n",
    "        return set(self.string[i] for i in indices if i < len(self.string))\n",
    "    \n",
    "    def read_input(self, input):\n",
    "        state = self.start()\n",
    "        for letter in input:\n",
    "            state = self.step(state, letter)\n",
    "            if not self.can_match(state):\n",
    "                return False\n",
    "        return True"
   ]
  },
  {
   "cell_type": "code",
   "execution_count": 21,
   "metadata": {},
   "outputs": [
    {
     "data": {
      "text/plain": [
       "True"
      ]
     },
     "execution_count": 21,
     "metadata": {},
     "output_type": "execute_result"
    }
   ],
   "source": [
    "automaton = SparseLevenshteinAutomaton(\"bannana\")\n",
    "automaton.read_input(\"bannana\")\n",
    "# state0 = automaton.start()\n",
    "# state1 = automaton.step(state0, 'w')\n",
    "# print(automaton.can_match(state1)) # True, \"w\" can match \"bannana\" with distance 1\n",
    "# state2 = automaton.step(state1, 'o')\n",
    "# print(automaton.can_match(state2)) # False, \"wo\" can't match \"bannana\" with distance 1"
   ]
  },
  {
   "cell_type": "code",
   "execution_count": null,
   "metadata": {},
   "outputs": [],
   "source": [
    "automaton = SparseLevenshteinAutomaton(\"bannana\")\n",
    "lista = []\n",
    "for word in dic:\n",
    "    if automaton.read_input(word):\n",
    "        lista.append(word)\n",
    "    if len(lista) > 4:\n",
    "        break"
   ]
  }
 ],
 "metadata": {
  "kernelspec": {
   "display_name": "Python 3.9.1 64-bit",
   "language": "python",
   "name": "python3"
  },
  "language_info": {
   "codemirror_mode": {
    "name": "ipython",
    "version": 3
   },
   "file_extension": ".py",
   "mimetype": "text/x-python",
   "name": "python",
   "nbconvert_exporter": "python",
   "pygments_lexer": "ipython3",
   "version": "3.9.1"
  },
  "orig_nbformat": 4,
  "vscode": {
   "interpreter": {
    "hash": "8833d0e189bb7c98e82a25796ea740a4a5b0ad45898c2eeb93ec65dd185cf40c"
   }
  }
 },
 "nbformat": 4,
 "nbformat_minor": 2
}
